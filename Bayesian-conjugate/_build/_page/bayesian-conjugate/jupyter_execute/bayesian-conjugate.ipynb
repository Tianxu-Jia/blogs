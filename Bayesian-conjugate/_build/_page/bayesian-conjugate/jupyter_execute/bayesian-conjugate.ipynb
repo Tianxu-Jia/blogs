{
 "cells": [
  {
   "cell_type": "markdown",
   "id": "3d5e09e0-7adc-41eb-b047-495aa0a2ddad",
   "metadata": {},
   "source": [
    "# "
   ]
  },
  {
   "cell_type": "markdown",
   "id": "217270f8-87f0-42a7-a8d3-42f3e400058d",
   "metadata": {},
   "source": [
    "<article>\n",
    "    <header>\n",
    "        <h1 class=\"headline\">Conjugate Function makes Bayesian Awsome</h1>\n",
    "        <div class=\"byline vcard\">\n",
    "            <address class=\"author\">By <a rel=\"author\" class=\"url fn n\" href=\"https://www.linkedin.com/in/tianxu-jia-a2787917/\">Tianxu Jia</a>   \n",
    "                <p> Station10 Ltd</p>   \n",
    "</article>\n",
    "            <p> 2021/12/28</p>"
   ]
  },
  {
   "cell_type": "markdown",
   "id": "ea9a417b-0db9-422e-8210-148c0f6f547b",
   "metadata": {},
   "source": [
    "# 1. Stroy"
   ]
  },
  {
   "cell_type": "markdown",
   "id": "651a5441-653b-4221-87ca-de21d6853cf1",
   "metadata": {},
   "source": [
    "# 2. From the Story to Bayesian Formular"
   ]
  },
  {
   "cell_type": "markdown",
   "id": "7e284ece-ba4c-4525-a541-91b98d31ec97",
   "metadata": {},
   "source": [
    "# 3. Is here someting wrong with Bayesian?"
   ]
  },
  {
   "cell_type": "markdown",
   "id": "16d4c023-f3b7-4ca4-b0a6-89733e316440",
   "metadata": {},
   "source": [
    "# 4 The conjugate Function"
   ]
  },
  {
   "cell_type": "markdown",
   "id": "433fd1a9-9198-4167-b318-1599e29cc59f",
   "metadata": {},
   "source": [
    "# 5. Awsome, Bayesian!"
   ]
  },
  {
   "cell_type": "code",
   "execution_count": null,
   "id": "895c77d9-a9e0-4aac-88cf-d6c2238ebb05",
   "metadata": {},
   "outputs": [],
   "source": []
  }
 ],
 "metadata": {
  "kernelspec": {
   "display_name": "Python 3 (ipykernel)",
   "language": "python",
   "name": "python3"
  },
  "language_info": {
   "codemirror_mode": {
    "name": "ipython",
    "version": 3
   },
   "file_extension": ".py",
   "mimetype": "text/x-python",
   "name": "python",
   "nbconvert_exporter": "python",
   "pygments_lexer": "ipython3",
   "version": "3.9.7"
  }
 },
 "nbformat": 4,
 "nbformat_minor": 5
}